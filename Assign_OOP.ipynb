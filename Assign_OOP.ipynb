{
 "cells": [
  {
   "cell_type": "code",
   "execution_count": 16,
   "id": "931bf0cf-b288-4199-a919-db04085dd7a6",
   "metadata": {},
   "outputs": [],
   "source": [
    "#About class & object\n",
    "\n",
    "class pwskills:\n",
    "    def __init__(self , name , email):\n",
    "        self.name = name\n",
    "        self.email = email\n",
    "        \n",
    "    def display_info(self):\n",
    "        print(self.name , self.email)\n",
    "    "
   ]
  },
  {
   "cell_type": "code",
   "execution_count": 17,
   "id": "64b661be-4d52-4b22-b3e7-bff4cf3bd7ac",
   "metadata": {},
   "outputs": [],
   "source": [
    "pw = pwskills(\"Harsh\" , \"harsh@gmail.com\")"
   ]
  },
  {
   "cell_type": "code",
   "execution_count": 18,
   "id": "45240543-9fbe-4839-9344-7426fb717583",
   "metadata": {},
   "outputs": [
    {
     "name": "stdout",
     "output_type": "stream",
     "text": [
      "Harsh harsh@gmail.com\n"
     ]
    }
   ],
   "source": [
    "pw.display_info()"
   ]
  },
  {
   "cell_type": "code",
   "execution_count": null,
   "id": "ddf390d7-117c-43aa-8569-c7bc051f7e0f",
   "metadata": {},
   "outputs": [],
   "source": []
  },
  {
   "cell_type": "code",
   "execution_count": 19,
   "id": "6a786e98-cfd7-4fa1-b4dc-bd2b998c733e",
   "metadata": {},
   "outputs": [],
   "source": [
    "#Four pillars of OOP"
   ]
  },
  {
   "cell_type": "code",
   "execution_count": 22,
   "id": "7ca1f30c-b92c-4f7c-b586-c1b54998b465",
   "metadata": {},
   "outputs": [
    {
     "ename": "SyntaxError",
     "evalue": "invalid syntax (1586516344.py, line 1)",
     "output_type": "error",
     "traceback": [
      "\u001b[0;36m  Cell \u001b[0;32mIn[22], line 1\u001b[0;36m\u001b[0m\n\u001b[0;31m    (1) inheritance (2) abstraction (3) encapsulation (4) polymorphism\u001b[0m\n\u001b[0m        ^\u001b[0m\n\u001b[0;31mSyntaxError\u001b[0m\u001b[0;31m:\u001b[0m invalid syntax\n"
     ]
    }
   ],
   "source": [
    "(1) inheritance (2) abstraction (3) encapsulation (4) polymorphism"
   ]
  },
  {
   "cell_type": "code",
   "execution_count": 2,
   "id": "6e495290-1047-493b-bf72-8361da57d406",
   "metadata": {},
   "outputs": [],
   "source": [
    "\"\"\" The __init__() method ensures that when a 'student' object is created,\n",
    "   it starts with the specified name and email values. This allows each student object to have its own unique attributes,\n",
    "   making them distinct from each other. \"\"\"\n",
    "\n",
    "class pwskills:\n",
    "    def __init__(self , name , email):\n",
    "        self.name = name\n",
    "        self.email = email\n",
    "        \n",
    "    def display_info(self):\n",
    "        print(self.name , self.email)"
   ]
  },
  {
   "cell_type": "code",
   "execution_count": 3,
   "id": "1ad4321b-38a6-4d95-90cd-ff6245302ae2",
   "metadata": {},
   "outputs": [],
   "source": [
    "student1 = pwskills(\"Harsh\" , \"harsh@gmail.com\")"
   ]
  },
  {
   "cell_type": "code",
   "execution_count": 4,
   "id": "7fb2bdd0-cab6-4f5a-bec7-087476113f71",
   "metadata": {},
   "outputs": [],
   "source": [
    "student2 = pwskills(\"Raj\" , \"RajPatel@gmail.com\")"
   ]
  },
  {
   "cell_type": "code",
   "execution_count": 6,
   "id": "dbce7946-cfc3-4f07-a7aa-efa025d92b0d",
   "metadata": {},
   "outputs": [
    {
     "name": "stdout",
     "output_type": "stream",
     "text": [
      "Harsh harsh@gmail.com\n"
     ]
    }
   ],
   "source": [
    "student1.display_info()"
   ]
  },
  {
   "cell_type": "code",
   "execution_count": 7,
   "id": "01f14e32-ac88-404f-ac49-6b43ed865973",
   "metadata": {},
   "outputs": [
    {
     "name": "stdout",
     "output_type": "stream",
     "text": [
      "Raj RajPatel@gmail.com\n"
     ]
    }
   ],
   "source": [
    "student2.display_info()"
   ]
  },
  {
   "cell_type": "code",
   "execution_count": null,
   "id": "72fcf4b0-0b91-4081-9301-a0add3c87f39",
   "metadata": {},
   "outputs": [],
   "source": []
  },
  {
   "cell_type": "code",
   "execution_count": 8,
   "id": "87a9527a-af3e-4ffd-941e-3077de1eaaf3",
   "metadata": {},
   "outputs": [],
   "source": [
    "# Why self is used in OOP"
   ]
  },
  {
   "cell_type": "code",
   "execution_count": 10,
   "id": "d298fefa-348e-43d8-b542-90efe5d2dd7c",
   "metadata": {},
   "outputs": [],
   "source": [
    "\"\"\"In object-oriented programming (OOP), the self keyword is used to refer to the instance of a class within the class itself.\n",
    "It is a convention used in many object-oriented programming languages including Python, \n",
    "to allow an object to access its own attributes and methods.\"\"\"\n",
    "\n",
    "class pwskills:\n",
    "    def __init__(self , name , email):\n",
    "        self.name = name\n",
    "        self.email = email\n",
    "        \n",
    "    def display_info(self):\n",
    "        print(self.name , self.email)\n"
   ]
  },
  {
   "cell_type": "code",
   "execution_count": 11,
   "id": "ca210110-6f19-4391-8f62-4185223565ec",
   "metadata": {},
   "outputs": [],
   "source": [
    "student1 = pwskills(\"Harsh\" , \"harsh@gmail.com\")"
   ]
  },
  {
   "cell_type": "code",
   "execution_count": 12,
   "id": "46d2c87d-7fc1-4c80-83ee-99d75d035f58",
   "metadata": {},
   "outputs": [
    {
     "name": "stdout",
     "output_type": "stream",
     "text": [
      "Harsh harsh@gmail.com\n"
     ]
    }
   ],
   "source": [
    "student1.display_info()"
   ]
  },
  {
   "cell_type": "code",
   "execution_count": 22,
   "id": "cba36d16-8b01-4d2c-bf30-6242ac2c6d26",
   "metadata": {},
   "outputs": [],
   "source": [
    "                                                #INHERITANCE\n",
    "\n",
    "class test():\n",
    "    \n",
    "    def Test_class(self):\n",
    "        return \"Here i wrote something\""
   ]
  },
  {
   "cell_type": "code",
   "execution_count": 23,
   "id": "404ff386-126f-4892-8b8e-e829b58fa8bb",
   "metadata": {},
   "outputs": [],
   "source": [
    "class test_1(test):\n",
    "    pass "
   ]
  },
  {
   "cell_type": "code",
   "execution_count": 24,
   "id": "d7bb402b-85f1-437c-9285-b87de7bb6074",
   "metadata": {},
   "outputs": [],
   "source": [
    "test_1_obj = test_1()"
   ]
  },
  {
   "cell_type": "code",
   "execution_count": 25,
   "id": "a0c1f45f-4f0d-4e4c-b598-3731665bb57c",
   "metadata": {},
   "outputs": [
    {
     "data": {
      "text/plain": [
       "'Here i wrote something'"
      ]
     },
     "execution_count": 25,
     "metadata": {},
     "output_type": "execute_result"
    }
   ],
   "source": [
    "test_1_obj.Test_class()"
   ]
  },
  {
   "cell_type": "code",
   "execution_count": 26,
   "id": "99b6f683-2e97-4ba4-a13e-513db207d67a",
   "metadata": {},
   "outputs": [],
   "source": [
    " # two types of inheritance multiple and multilevel "
   ]
  },
  {
   "cell_type": "code",
   "execution_count": 27,
   "id": "b5a5e6db-0ac7-44e6-8fd0-7c77cc6366f4",
   "metadata": {},
   "outputs": [],
   "source": [
    "# multilevel"
   ]
  },
  {
   "cell_type": "code",
   "execution_count": 28,
   "id": "566cf657-f959-4326-9fc1-6d9187b673ee",
   "metadata": {},
   "outputs": [],
   "source": [
    "class Class1():\n",
    "    \n",
    "    def test_1(self) :\n",
    "        return \"This is from class 1\""
   ]
  },
  {
   "cell_type": "code",
   "execution_count": 29,
   "id": "05adc7ba-9e5f-4b00-975b-0ae602b47c86",
   "metadata": {},
   "outputs": [],
   "source": [
    "class Class2(Class1):\n",
    "    \n",
    "    def test_2(self) :\n",
    "        return \"This is from class 2\""
   ]
  },
  {
   "cell_type": "code",
   "execution_count": 30,
   "id": "44c54a15-016b-43a3-8fb7-31160fd57ff2",
   "metadata": {},
   "outputs": [],
   "source": [
    "class Class3(Class2):\n",
    "    pass"
   ]
  },
  {
   "cell_type": "code",
   "execution_count": 31,
   "id": "317f5f3e-0fc1-4ffd-a070-ae88d309f150",
   "metadata": {},
   "outputs": [],
   "source": [
    "Class3_obj = Class3()"
   ]
  },
  {
   "cell_type": "code",
   "execution_count": 32,
   "id": "8d3d7441-1a95-4f9d-b614-55fc7effb58c",
   "metadata": {},
   "outputs": [
    {
     "data": {
      "text/plain": [
       "'This is from class 2'"
      ]
     },
     "execution_count": 32,
     "metadata": {},
     "output_type": "execute_result"
    }
   ],
   "source": [
    "Class3_obj.test_2()"
   ]
  },
  {
   "cell_type": "code",
   "execution_count": 33,
   "id": "d9b77568-2d56-4b93-96a7-087f0a03cee6",
   "metadata": {},
   "outputs": [
    {
     "data": {
      "text/plain": [
       "'This is from class 1'"
      ]
     },
     "execution_count": 33,
     "metadata": {},
     "output_type": "execute_result"
    }
   ],
   "source": [
    "Class3_obj.test_1()"
   ]
  },
  {
   "cell_type": "code",
   "execution_count": null,
   "id": "1337455a-04de-4533-bc46-558df2efe2e1",
   "metadata": {},
   "outputs": [],
   "source": []
  },
  {
   "cell_type": "code",
   "execution_count": 34,
   "id": "8a051e24-fe92-4252-a356-385f996f38da",
   "metadata": {},
   "outputs": [],
   "source": [
    "#multiple"
   ]
  },
  {
   "cell_type": "code",
   "execution_count": 35,
   "id": "b24027a2-20ac-44e6-bade-6ce2e8d19bed",
   "metadata": {},
   "outputs": [],
   "source": [
    "class class1():\n",
    "    def test_class1(self):\n",
    "        return \"This is from test 1\""
   ]
  },
  {
   "cell_type": "code",
   "execution_count": null,
   "id": "9ae206af-a477-4588-a128-d4b542ce4103",
   "metadata": {},
   "outputs": [],
   "source": []
  }
 ],
 "metadata": {
  "kernelspec": {
   "display_name": "Python 3 (ipykernel)",
   "language": "python",
   "name": "python3"
  },
  "language_info": {
   "codemirror_mode": {
    "name": "ipython",
    "version": 3
   },
   "file_extension": ".py",
   "mimetype": "text/x-python",
   "name": "python",
   "nbconvert_exporter": "python",
   "pygments_lexer": "ipython3",
   "version": "3.10.8"
  }
 },
 "nbformat": 4,
 "nbformat_minor": 5
}
